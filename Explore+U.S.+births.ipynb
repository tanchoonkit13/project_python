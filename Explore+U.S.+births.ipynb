{
 "cells": [
  {
   "cell_type": "markdown",
   "metadata": {},
   "source": [
    "## README\n",
    "\n",
    "The datasets `US_births_1994-2003_CDC_NCHS.csv` and `US_births_2000-2014_SSA.csv` are provided by the **Centers for Disease Control and Prevention's National Center for Health Statistics**, and the **Social Security Administration**, respectively. The raw data were compiled by FiveThirtyEight, which you can get them [here](https://github.com/fivethirtyeight/data/tree/master/births).\n",
    "\n",
    "Below is the structure of the datasets (header: definition):\n",
    "\n",
    "- `year`: Year\n",
    "- `month`: Month\n",
    "- `date_of_month`: Day number of the month\n",
    "- `day_of_week`: Day of week, where 1 is Monday and 7 is Sunday\n",
    "- `births`: Number of births  "
   ]
  },
  {
   "cell_type": "code",
   "execution_count": 38,
   "metadata": {},
   "outputs": [],
   "source": [
    "# Create function to convert data into a list of lists\n",
    "def read_csv(file_csv):\n",
    "    f = open(file_csv, 'r')\n",
    "    data = f.read()\n",
    "    lines_list = data.split(\"\\n\")\n",
    "    string_list = lines_list[1:len(lines_list)]\n",
    "\n",
    "    final_list = []    \n",
    "\n",
    "    for item in string_list:\n",
    "     int_fields = []\n",
    "     string_fields = item.split(\",\")\n",
    "     for item2 in string_fields:\n",
    "       int_fields.append(int(item2))\n",
    "     final_list.append(int_fields)\n",
    "\n",
    "    return(final_list) \n",
    "\n",
    "# Create new lists for cdc and ssa datasets\n",
    "cdc_list = []\n",
    "ssa_list = []\n",
    "\n",
    "cdc_list = read_csv(\"US_births_1994-2003_CDC_NCHS.csv\")\n",
    "ssa_list = read_csv(\"US_births_2000-2014_SSA.csv\")\n"
   ]
  },
  {
   "cell_type": "code",
   "execution_count": 40,
   "metadata": {},
   "outputs": [
    {
     "name": "stdout",
     "output_type": "stream",
     "text": [
      "{1994: 3952767, 1995: 3899589, 1996: 3891494, 1997: 3880894, 1998: 3941553, 1999: 3959417, 2000: 4058814, 2001: 4025933, 2002: 4021726, 2003: 4089950}\n",
      "{2000: 4149598, 2001: 4110963, 2002: 4099313, 2003: 4163060, 2004: 4186863, 2005: 4211941, 2006: 4335154, 2007: 4380784, 2008: 4310737, 2009: 4190991, 2010: 4055975, 2011: 4006908, 2012: 4000868, 2013: 3973337, 2014: 4010532}\n"
     ]
    }
   ],
   "source": [
    "# Create a general function that works for any column \n",
    "def calc_counts(data, column):\n",
    "    total_counts = dict()\n",
    "\n",
    "    for item in data:\n",
    "        column_value = item[column]\n",
    "        births = item[4]\n",
    "        if column_value in total_counts:\n",
    "            total_counts[column_value] = total_counts[column_value] + births\n",
    "        else:\n",
    "            total_counts[column_value] = births\n",
    "     \n",
    "    return(total_counts)\n",
    "\n",
    "# Create new dictionaries\n",
    "cdc_year_births = calc_counts(cdc_list, 0)\n",
    "ssa_year_births = calc_counts(ssa_list, 0)\n",
    "\n",
    "# Display cdc_year_births dictionary\n",
    "print(cdc_year_births)\n",
    "\n",
    "# Display ssa_year_births dictionary\n",
    "print(ssa_year_births)"
   ]
  },
  {
   "cell_type": "code",
   "execution_count": 42,
   "metadata": {},
   "outputs": [
    {
     "data": {
      "text/plain": [
       "{1994: 3952767,\n",
       " 1995: 3899589,\n",
       " 1996: 3891494,\n",
       " 1997: 3880894,\n",
       " 1998: 3941553,\n",
       " 1999: 3959417,\n",
       " 2000: 4149598,\n",
       " 2001: 4110963,\n",
       " 2002: 4099313,\n",
       " 2003: 4163060,\n",
       " 2004: 4186863,\n",
       " 2005: 4211941,\n",
       " 2006: 4335154,\n",
       " 2007: 4380784,\n",
       " 2008: 4310737,\n",
       " 2009: 4190991,\n",
       " 2010: 4055975,\n",
       " 2011: 4006908,\n",
       " 2012: 4000868,\n",
       " 2013: 3973337,\n",
       " 2014: 4010532}"
      ]
     },
     "execution_count": 42,
     "metadata": {},
     "output_type": "execute_result"
    }
   ],
   "source": [
    "# Combine ssa_year_births into cdc_year_births by removing overlapping years\n",
    "cdc_list_combined = dict()\n",
    "cdc_list_combined = cdc_year_births.copy()\n",
    "cdc_list_combined.update(ssa_year_births)\n",
    "    \n",
    "# Display combined dictionary\n",
    "cdc_list_combined"
   ]
  },
  {
   "cell_type": "code",
   "execution_count": 44,
   "metadata": {},
   "outputs": [
    {
     "name": "stdout",
     "output_type": "stream",
     "text": [
      "{1994: 3952767, 1995: 3899589, 1996: 3891494, 1997: 3880894, 1998: 3941553, 1999: 3959417, 2000: 4149598, 2001: 4110963, 2002: 4099313, 2003: 4163060, 2004: 4186863, 2005: 4211941, 2006: 4335154, 2007: 4380784, 2008: 4310737, 2009: 4190991, 2010: 4055975, 2011: 4006908, 2012: 4000868, 2013: 3973337, 2014: 4010532}\n",
      "4380784\n",
      "3880894\n"
     ]
    }
   ],
   "source": [
    "# Define a function to print out max & min value of a dicitionary\n",
    "def calc_min_max(data_dict):\n",
    "    key1 = max(data_dict, key=data_dict.get)\n",
    "    print(data_dict[key1])\n",
    "    key2 = min(data_dict, key=data_dict.get)\n",
    "    print(data_dict[key2])\n",
    "\n",
    "# Print out cdc_year_births\n",
    "print(cdc_list_combined)\n",
    "\n",
    "# Calling function\n",
    "calc_min_max(cdc_list_combined)"
   ]
  },
  {
   "cell_type": "code",
   "execution_count": 45,
   "metadata": {},
   "outputs": [
    {
     "data": {
      "image/png": "[encoded data removed]",
      "text/plain": [
       "<matplotlib.figure.Figure at 0x105a6a278>"
      ]
     },
     "metadata": {},
     "output_type": "display_data"
    }
   ],
   "source": [
    "# Plot graphs to visualise data\n",
    "\n",
    "import matplotlib.pyplot as plt\n",
    "\n",
    "plt.bar(list(cdc_list_combined.keys()), cdc_list_combined.values(), color = 'g')\n",
    "plt.title('Birth rates in the U.S. between Year 1994 and 2014') \n",
    "plt.xlabel('Year')\n",
    "plt.ylabel('Total births')\n",
    "plt.show()"
   ]
  },
  {
   "attachments": {},
   "cell_type": "markdown",
   "metadata": {
    "collapsed": true
   },
   "source": [
    "## Birth rates in the United States\n",
    "\n",
    "In this project, we explored the birth rates in the United States from Year 1994 to 2014. Within these 20 years, birth rates have been relatively stable, varying between 3.8 and 4.3 millions per year. There were small peaks from 2006 to 2008, but rates were quickly returned to the stability as before. The total number of births in 2007 - 4,380,784 births - was the highest registered in the United States within that 20 years; whereas the lowest birth rate was in 1997, standing at 3,880,894."
   ]
  },
  {
   "cell_type": "code",
   "execution_count": null,
   "metadata": {
    "collapsed": true
   },
   "outputs": [],
   "source": []
  }
 ],
 "metadata": {
  "kernelspec": {
   "display_name": "Python 3",
   "language": "python",
   "name": "python3"
  },
  "language_info": {
   "codemirror_mode": {
    "name": "ipython",
    "version": 3
   },
   "file_extension": ".py",
   "mimetype": "text/x-python",
   "name": "python",
   "nbconvert_exporter": "python",
   "pygments_lexer": "ipython3",
   "version": "3.6.1"
  }
 },
 "nbformat": 4,
 "nbformat_minor": 2
}
